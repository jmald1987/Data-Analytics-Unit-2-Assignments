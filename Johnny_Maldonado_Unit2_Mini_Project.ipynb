{
  "nbformat": 4,
  "nbformat_minor": 0,
  "metadata": {
    "colab": {
      "name": "Johnny Maldonado Unit2_Mini_Project.ipynb",
      "provenance": [],
      "collapsed_sections": [],
      "toc_visible": true
    },
    "kernelspec": {
      "name": "python3",
      "display_name": "Python 3"
    }
  },
  "cells": [
    {
      "cell_type": "markdown",
      "metadata": {
        "id": "view-in-github"
      },
      "source": [
        "<a href=\"https://colab.research.google.com/github/niteen11/lagcc_data_analytics_micro_credential/blob/master/Unit%202%20-%20Python%20Fundamentals/Mini%20Project/Unit2_Mini_Project.ipynb\" target=\"_parent\"><img src=\"https://colab.research.google.com/assets/colab-badge.svg\" alt=\"Open In Colab\"/></a>"
      ]
    },
    {
      "cell_type": "markdown",
      "metadata": {
        "id": "Vgs8Kp4TidFQ"
      },
      "source": [
        "# Intrdouction to Python - Mini Project"
      ]
    },
    {
      "cell_type": "markdown",
      "metadata": {
        "id": "_Hq7Ny79iwgD"
      },
      "source": [
        "#Python Project – Odd or Even\n",
        "\n",
        "Ask the user for a number. Depending on whether the number is even or odd, print out an appropriate message to the user. Hint: how does an even / odd number react differently when divided by 2?\n"
      ]
    },
    {
      "cell_type": "code",
      "metadata": {
        "id": "lotvpVpvlKsR",
        "outputId": "6f88c09c-6674-402f-e2d0-723d3b0fa259",
        "colab": {
          "base_uri": "https://localhost:8080/"
        }
      },
      "source": [
        "try:\n",
        "  num=input(\"Please enter a number: \")\n",
        "  num=int(num)\n",
        "  if num%2==0:\n",
        "    print(\"This number is even\")\n",
        "  else:\n",
        "    print(\"This number is odd\")\n",
        "except:  \n",
        "  num=input(\"Please enter a valid number: \")\n",
        "  num=int(num)\n",
        "  if num%2==0:\n",
        "    print(\"This number is even\")\n",
        "  else:\n",
        "    print(\"This number is odd\")\n"
      ],
      "execution_count": null,
      "outputs": [
        {
          "output_type": "stream",
          "name": "stdout",
          "text": [
            "Please enter a number: 5\n",
            "This number is odd\n"
          ]
        }
      ]
    },
    {
      "cell_type": "code",
      "metadata": {
        "id": "oNXY-CfrlLbE"
      },
      "source": [
        ""
      ],
      "execution_count": null,
      "outputs": []
    },
    {
      "cell_type": "code",
      "metadata": {
        "id": "lyoaBLI8nvRT"
      },
      "source": [
        ""
      ],
      "execution_count": null,
      "outputs": []
    },
    {
      "cell_type": "code",
      "metadata": {
        "id": "TuD1O2R0nvTd"
      },
      "source": [
        ""
      ],
      "execution_count": null,
      "outputs": []
    },
    {
      "cell_type": "code",
      "metadata": {
        "id": "1uWxo8AxnvVN"
      },
      "source": [
        ""
      ],
      "execution_count": null,
      "outputs": []
    },
    {
      "cell_type": "code",
      "metadata": {
        "id": "32ld2T0onvZE"
      },
      "source": [
        ""
      ],
      "execution_count": null,
      "outputs": []
    },
    {
      "cell_type": "code",
      "metadata": {
        "id": "DGwOthAbnvaw"
      },
      "source": [
        ""
      ],
      "execution_count": null,
      "outputs": []
    },
    {
      "cell_type": "code",
      "metadata": {
        "id": "6_iDEhq5nvd8"
      },
      "source": [
        ""
      ],
      "execution_count": null,
      "outputs": []
    },
    {
      "cell_type": "markdown",
      "metadata": {
        "id": "io_27RSlizno"
      },
      "source": [
        "# Bonus:\n",
        "\n",
        "1.\tIf the number is a multiple of 4, print out a different message.\n",
        "\n",
        "2.\tAsk the user for two numbers: one number to check (call it num) and one number to divide by (check). If check divides evenly into num, tell that to the user. If not, print a different appropriate message.\n"
      ]
    },
    {
      "cell_type": "code",
      "metadata": {
        "id": "Dh1o5cAylSHB",
        "outputId": "a36a5aa6-5a14-4b6b-a0ca-add618c7b18f",
        "colab": {
          "base_uri": "https://localhost:8080/"
        }
      },
      "source": [
        "#Bonus 1:\n",
        "try:\n",
        "  num=input(\"Please enter a number: \")\n",
        "  num=int(num)\n",
        "  if num%2==0:\n",
        "    print(\"This number is even\")\n",
        "    if num%4==0:\n",
        "      print(\"This number is a multiple of 4\")\n",
        "  else:\n",
        "    print(\"This number is odd\")\n",
        "except:  \n",
        "  num=input(\"Please enter a valid number: \")\n",
        "  num=int(num)\n",
        "  if num%2==0:\n",
        "    print(\"This number is even\")\n",
        "    if num%4==0:\n",
        "      print(\"This number is a multiple of 4\")\n",
        "  else:\n",
        "    print(\"This number is odd\")\n"
      ],
      "execution_count": null,
      "outputs": [
        {
          "output_type": "stream",
          "name": "stdout",
          "text": [
            "Please enter a number: 4\n",
            "This number is even\n",
            "This number is a multiple of 4\n"
          ]
        }
      ]
    },
    {
      "cell_type": "code",
      "metadata": {
        "id": "vs8ppR-wlSKL",
        "outputId": "5b79a941-ff00-4e31-e5ea-e25d13cec143",
        "colab": {
          "base_uri": "https://localhost:8080/"
        }
      },
      "source": [
        "#Bonus 2:\n",
        "try:\n",
        "  num=input(\"Enter a number to divide: \")\n",
        "  check=input(\"Enter a number to divide by: \")\n",
        "  num=int(num)\n",
        "  check=int(check)\n",
        "  if num%check==0:\n",
        "    print(num,\"divides evenly into \", check)\n",
        "  else:\n",
        "    print(num,\"does not divide evenly into \", check)\n",
        "except:\n",
        "  print(\"Please enter valid integers to divide by \")\n",
        "  num=input(\"Enter a number to divide: \")\n",
        "  check=input(\"Enter a number to divide by: \")\n",
        "  num=int(num)\n",
        "  check=int(check)\n",
        "  if num%check==0:\n",
        "    print(num,\"divides evenly into \", check)\n",
        "  else:\n",
        "    print(num,\"does not divide evenly into \", check)\n"
      ],
      "execution_count": null,
      "outputs": [
        {
          "output_type": "stream",
          "name": "stdout",
          "text": [
            "Enter a number to divide: klml;m\n",
            "Enter a number to divide by: 54\n",
            "Please enter valid integers to divide by \n",
            "Enter a number to divide: 54\n",
            "Enter a number to divide by: 12\n",
            "54 does not divide evenly into  12\n"
          ]
        }
      ]
    },
    {
      "cell_type": "code",
      "metadata": {
        "id": "5mkKtxzunuqc"
      },
      "source": [
        ""
      ],
      "execution_count": null,
      "outputs": []
    },
    {
      "cell_type": "code",
      "metadata": {
        "id": "rmfPnI5onutd"
      },
      "source": [
        ""
      ],
      "execution_count": null,
      "outputs": []
    },
    {
      "cell_type": "code",
      "metadata": {
        "id": "6000qDkVnuxM"
      },
      "source": [
        ""
      ],
      "execution_count": null,
      "outputs": []
    },
    {
      "cell_type": "code",
      "metadata": {
        "id": "X2X4dTbfnu0M"
      },
      "source": [
        ""
      ],
      "execution_count": null,
      "outputs": []
    }
  ]
}